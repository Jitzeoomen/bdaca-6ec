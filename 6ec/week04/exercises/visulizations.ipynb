{
 "cells": [
  {
   "cell_type": "markdown",
   "metadata": {},
   "source": [
    "# Data visualization\n",
    "\n",
    "\n",
    "\n",
    "## Choosing the right library\n",
    "Some background about our modules of choice:\n",
    "\n",
    "`matplotlib` is the standard work horse. It's neither smart nor beautiful, but the decent option that just does its job. It is what happens under the hood if you use the `.plot()` methods in `pandas`, but you can also just directly feed it some lists and dictionaries as input.\n",
    "\n",
    "\n",
    "`seaborn` offers more beautiful output, has many more options, is smarter and can produce advanced statistical plots. It is also a bit easier to use. Its a bit like `ggplot2` in R.\n",
    "\n",
    "\n",
    "As you will see when browsing examples on https://python-graph-gallery.com/ , both `matplotlib` and `seaborn` are very popular, and some of the examples use one, some the other. You can do all the standard stuff (like bar charts) in either of them, and we therefore introduce you to both (after all, when googling for help, you are very likely to come accross both libraries).\n",
    "\n",
    "\n"
   ]
  },
  {
   "cell_type": "markdown",
   "metadata": {},
   "source": [
    "## Preparation\n",
    "Import some modules, load some example datasets. (Note, these ones with 'sns' beforehand are datasets that come with the seaborn package)\n",
    "\n",
    "We are going to import these datasets - two from seaborn, and one that we created in our notebooks last week - in order to use them later for the visualizations.\n"
   ]
  },
  {
   "cell_type": "code",
   "execution_count": null,
   "metadata": {},
   "outputs": [],
   "source": [
    "import pandas as pd\n",
    "import numpy as np\n",
    "import seaborn as sns\n",
    "import matplotlib.pyplot as plt\n",
    "%matplotlib inline"
   ]
  },
  {
   "cell_type": "code",
   "execution_count": null,
   "metadata": {},
   "outputs": [],
   "source": [
    "titanic = sns.load_dataset(\"titanic\")\n",
    "titanic.head()"
   ]
  },
  {
   "cell_type": "markdown",
   "metadata": {},
   "source": [
    "if you get an `SSL` error, you may want to run the following lines of code:\n",
    "\n",
    "```python\n",
    "import ssl\n",
    "ssl._create_default_https_context = ssl._create_unverified_context\n",
    "```"
   ]
  },
  {
   "cell_type": "code",
   "execution_count": null,
   "metadata": {},
   "outputs": [],
   "source": [
    "titanic.describe()"
   ]
  },
  {
   "cell_type": "code",
   "execution_count": null,
   "metadata": {},
   "outputs": [],
   "source": [
    "tips = sns.load_dataset(\"tips\")\n",
    "tips.head()"
   ]
  },
  {
   "cell_type": "code",
   "execution_count": null,
   "metadata": {},
   "outputs": [],
   "source": [
    "tips.describe()"
   ]
  },
  {
   "cell_type": "code",
   "execution_count": null,
   "metadata": {
    "scrolled": true
   },
   "outputs": [],
   "source": [
    "# Think back of the data wrangling slides - this is a *long* dataset, the result of a melt operation\n",
    "\n",
    "woz = pd.read_csv('wijken_long.csv')\n",
    "woz.head()"
   ]
  },
  {
   "cell_type": "markdown",
   "metadata": {},
   "source": [
    "It turns out that the first column of our csv file contained the index (= row number), but we don't want that (after all, we have an index anyway and it doesn't mean anything to us). We can delete (`drop`) this column (which is, as we see above, called \"Unnamed: 0\"): \n",
    "\n",
    "`axis=1` specifies that we want to delete a column, not a row, and `inplace` specifies whether we want to directly modify the existing dataframe (i.e., override it), or whether we want to return another, new, dataframe instead.\n",
    "\n",
    "*More specifically*: \n",
    "\n",
    "`axis=0` means along **rows**: row-wise operation.\n",
    "\n",
    "`axis=1` means along **columns**: column-wise operation."
   ]
  },
  {
   "cell_type": "code",
   "execution_count": null,
   "metadata": {},
   "outputs": [],
   "source": [
    "# both lines would do the same. See the difference in the syntax?\n",
    "\n",
    "# woz.drop('Unnamed: 0', axis=1, inplace=True)\n",
    "woz = woz.drop('Unnamed: 0', axis=1)"
   ]
  },
  {
   "cell_type": "code",
   "execution_count": null,
   "metadata": {},
   "outputs": [],
   "source": [
    "woz.head()"
   ]
  },
  {
   "cell_type": "code",
   "execution_count": null,
   "metadata": {},
   "outputs": [],
   "source": [
    "woz.describe()"
   ]
  },
  {
   "cell_type": "markdown",
   "metadata": {},
   "source": [
    "Let's also make a dataframe in which we do not split up housing prices per \"stadsdeel\" (district), but just take the median (or mean) across all of them (per year). Hence, we group by year, and then aggregate by taking the median (or mean) within each of these groups:"
   ]
  },
  {
   "cell_type": "code",
   "execution_count": null,
   "metadata": {},
   "outputs": [],
   "source": [
    "woz_simple = woz.groupby('year').agg(np.median)   # or np.mean, if you want to. \n",
    "\n",
    "woz_simple"
   ]
  },
  {
   "cell_type": "markdown",
   "metadata": {},
   "source": [
    "# 0. A very brief intro to the syntax of matplotlib and seaborn\n",
    "\n",
    "## 0.1 Matplotlib (directly)\n",
    "\n",
    "The general idea with matplotlib, if you use it directly, is to create an empty figure, and then add elements (plots, labels, titles, ...) to it, and then either save or show the image.\n",
    "\n",
    "*This is especially useful if your data are not in a pandas dataframe, but, for instance, in some lists.* \n",
    "\n",
    "There are multiple ways of plotting things with matplotlib, but the most common one (illustrated below) is probably to just pass lists of values:\n",
    "```\n",
    "plt.plot(list1, list2)\n",
    "```\n"
   ]
  },
  {
   "cell_type": "code",
   "execution_count": null,
   "metadata": {},
   "outputs": [],
   "source": [
    "l1 = [2,3,4]\n",
    "l2 = [1,4,4]\n",
    "plt.plot(l1,l2)\n"
   ]
  },
  {
   "cell_type": "code",
   "execution_count": null,
   "metadata": {},
   "outputs": [],
   "source": [
    "# example adapted from https://matplotlib.org/3.1.1/tutorials/introductory/usage.html#sphx-glr-tutorials-introductory-usage-py\n",
    "\n",
    "# let's generate some sample data\n",
    "x = np.linspace(0, 2, 100)  # this gives you an array (sth like a list) \n",
    "                            # with all numbers from 0 to 2, in 100 steps. [0, 0.02, 0.04, ... 2.0]\n",
    "\n",
    "# create a figure (a canvas)\n",
    "plt.figure(figsize=(10,7))\n",
    "\n",
    "# plot things on that canvas\n",
    "plt.plot(x, x, label='linear')\n",
    "plt.plot(x, x**2, label='quadratic')\n",
    "plt.plot(x, x**3, label='cubic')\n",
    "\n",
    "# add labels, titles, legends, ...\n",
    "plt.xlabel('x label')\n",
    "plt.ylabel('y label')\n",
    "plt.title(\"Simple Plot\")\n",
    "plt.legend()\n",
    "\n",
    "# Save and/or show the figure. Use ? to get different options for file formats etc\n",
    "plt.savefig('test.png',dpi=300)\n",
    "plt.show()"
   ]
  },
  {
   "cell_type": "markdown",
   "metadata": {},
   "source": [
    "## 0.2 Matplotlib (via pandas)\n",
    "\n",
    "The most useful way for you to interact with matplotlib, however, is via pandas. Pandas dataframes and series have build-in methods that call matplotlib 'under the hood', which makes it very easy for you to use.\n",
    "\n",
    "You essentially just add `.plot()` to a table-like object, and it will produce a plot.\n",
    "With the `kind` argument, you can specify which type of plot you want (pie, bar, line, etc)\n",
    "\n",
    "The nice thing is that you still can use the native matplotlib functions presented above, for instance `plt.savefig()` if you want to save the figures to your desktop (or google drive)."
   ]
  },
  {
   "cell_type": "code",
   "execution_count": null,
   "metadata": {},
   "outputs": [],
   "source": [
    "#Here we plot that simple woz median value dataset, that literally only consists of years and median values.\n",
    "woz_simple['woz-waarde'].plot(kind='line')\n",
    "plt.savefig(\"woz\")"
   ]
  },
  {
   "cell_type": "code",
   "execution_count": null,
   "metadata": {},
   "outputs": [],
   "source": [
    "#here we're using the 'tips' dataset. Can you figure out, based on the code here, what \n",
    "#we are plotting on the y axis?\n",
    "# tips['day'].value_counts(sort=False).plot(kind='bar')\n",
    "tips['day'].value_counts(sort=False).plot(kind='bar')"
   ]
  },
  {
   "cell_type": "code",
   "execution_count": null,
   "metadata": {},
   "outputs": [],
   "source": [
    "woz.groupby('year').agg([np.mean,np.median]).plot(xticks=range(2014,2019))"
   ]
  },
  {
   "cell_type": "markdown",
   "metadata": {},
   "source": [
    "## 0.3 Seaborn\n",
    "\n",
    "Seaborn is built on matplotlib, but uses a different grammar.\n",
    "You may find it, in fact, more intuitive, as you basically provide each seaborn function with a couple of arguments, namely\n",
    "```\n",
    "data : the name of the dataframe with all your data\n",
    "x    : which column to plot on the x axis\n",
    "y    : which column to plot on the y axis\n",
    "hue  : which column to use to group the data (and represent by different colors)\n",
    "col  : which column to use to group the data into different sub-plots ('columns')\n",
    "style: which column to use to group the data into different styles of the marker\n",
    "size : which column to use to change the size of the marker\n",
    "... \n",
    "```\n",
    "\n",
    "Look at this example:\n",
    "\n"
   ]
  },
  {
   "cell_type": "code",
   "execution_count": null,
   "metadata": {},
   "outputs": [],
   "source": [
    "sns.relplot(x=\"total_bill\", y=\"tip\", size='size',  hue='smoker',  col='sex', data=tips);"
   ]
  },
  {
   "cell_type": "code",
   "execution_count": null,
   "metadata": {},
   "outputs": [],
   "source": [
    "# example taken fromn https://seaborn.pydata.org/introduction.html#introduction\n",
    "sns.relplot(x=\"total_bill\", y=\"tip\", col=\"time\",\n",
    "            hue=\"smoker\", style=\"smoker\", size=\"size\",\n",
    "            data=tips);\n",
    "\n",
    "#Feel free to play around with these parameters and see what changes."
   ]
  },
  {
   "cell_type": "markdown",
   "metadata": {},
   "source": [
    "In other words, when using seaborn, we do not use the method of a pandas object (as with matplotlib, see above), but call the seaborn function directly and pass on the dataframe with the `data = ...` argument"
   ]
  },
  {
   "cell_type": "markdown",
   "metadata": {
    "scrolled": true
   },
   "source": [
    "# 1. Pie charts\n",
    "\n",
    "- proportions\n",
    "- categorical (nominal) data\n",
    "- makes only sense if adds up to 100%\n",
    "\n",
    "Note that `autopct` allows you to display the percent value by making use of string formatting. See examples below.\n",
    "\n",
    "Related: donut plots, possibly with subgroups (https://python-graph-gallery.com/163-donut-plot-with-subgroups/)"
   ]
  },
  {
   "cell_type": "code",
   "execution_count": null,
   "metadata": {},
   "outputs": [],
   "source": [
    "# tips['smoker'].value_counts().plot(kind='pie', figsize=(5,5))\n",
    "tips['smoker'].value_counts().plot(kind='pie', figsize=(1,1))"
   ]
  },
  {
   "cell_type": "code",
   "execution_count": null,
   "metadata": {},
   "outputs": [],
   "source": [
    "tips['smoker'].value_counts().plot(kind='pie', autopct='%.0f%%', colors=['lightblue','brown'],  figsize=(5,5));\n",
    "#experiment with what happens when you take out the \"figsize\" specification."
   ]
  },
  {
   "cell_type": "code",
   "execution_count": null,
   "metadata": {},
   "outputs": [],
   "source": [
    "woz['stadsdeel'].value_counts().plot(kind='pie', figsize = (5, 5))"
   ]
  },
  {
   "cell_type": "code",
   "execution_count": null,
   "metadata": {},
   "outputs": [],
   "source": [
    "woz['stadsdeel'].value_counts().plot(kind='pie',explode=[1,0,0,0,0,0,1,0], autopct='%1.2f%%')"
   ]
  },
  {
   "cell_type": "code",
   "execution_count": null,
   "metadata": {},
   "outputs": [],
   "source": [
    "woz['stadsdeel'].value_counts()"
   ]
  },
  {
   "cell_type": "markdown",
   "metadata": {},
   "source": [
    "**Fun fact**! You cannot do a pie chart in seaborn. Probably because the authors of seaborn also think that there are very few use cases in which pie charts are a great choice ;-) . So, you need to stick with matplotlib in case you want to stick to pie charts."
   ]
  },
  {
   "cell_type": "markdown",
   "metadata": {},
   "source": [
    "# 2. Bar charts\n",
    "\n",
    "- counts per (discrete) category\n",
    "- or: other statistical property (e..g, mean)  per (discrete) category\n",
    "- different variations (e.g., stacked bar charts)\n",
    "\n"
   ]
  },
  {
   "cell_type": "code",
   "execution_count": null,
   "metadata": {},
   "outputs": [],
   "source": [
    "# with matplotlib\n",
    "tips['smoker'].value_counts(sort=False).plot(kind='bar')"
   ]
  },
  {
   "cell_type": "code",
   "execution_count": null,
   "metadata": {},
   "outputs": [],
   "source": [
    "# with seaborn\n",
    "# Look how sns has a function that integrates counting of values and producing the bar chart.\n",
    "sns.countplot?\n",
    "\n",
    "#sns.countplot(x='smoker',data =tips)"
   ]
  },
  {
   "cell_type": "markdown",
   "metadata": {},
   "source": [
    "In the following example, we do not want to calculate counts and then plot them in a bar chart, but rather plot the (implicitly calculated) means:"
   ]
  },
  {
   "cell_type": "code",
   "execution_count": null,
   "metadata": {},
   "outputs": [],
   "source": [
    "sns.barplot(x=\"day\", y=\"total_bill\", data=tips, ci=None);"
   ]
  },
  {
   "cell_type": "code",
   "execution_count": null,
   "metadata": {},
   "outputs": [],
   "source": [
    "sns.barplot(data=tips, x='day', y = 'total_bill', estimator=np.median, ci=None)"
   ]
  },
  {
   "cell_type": "code",
   "execution_count": null,
   "metadata": {},
   "outputs": [],
   "source": [
    "sns.barplot(x=\"day\", y=\"total_bill\", data=tips, ci=None, estimator=lambda x: max(x)-min(x))"
   ]
  },
  {
   "cell_type": "markdown",
   "metadata": {},
   "source": [
    "But we could also do something like this 'by hand' in pandas (with matplotlib being called under the hood):\n",
    "\n",
    "**Discuss pros and cons and applications of both approaches!**\n",
    "\n",
    "Try to understand the underlying logic behind them! (and then make a decision on what to use for your own purposes)"
   ]
  },
  {
   "cell_type": "code",
   "execution_count": null,
   "metadata": {},
   "outputs": [],
   "source": [
    "tips.groupby('day')['total_bill'].agg(lambda x:max(x)-min(x))"
   ]
  },
  {
   "cell_type": "code",
   "execution_count": null,
   "metadata": {},
   "outputs": [],
   "source": [
    "tips.groupby('day')['total_bill'].agg(lambda x:max(x)-min(x)).plot(kind='bar')"
   ]
  },
  {
   "cell_type": "markdown",
   "metadata": {},
   "source": [
    "As always, use the ? to get more help:"
   ]
  },
  {
   "cell_type": "code",
   "execution_count": null,
   "metadata": {},
   "outputs": [],
   "source": [
    "sns.barplot?"
   ]
  },
  {
   "cell_type": "markdown",
   "metadata": {},
   "source": [
    "### Grouped barplots"
   ]
  },
  {
   "cell_type": "code",
   "execution_count": null,
   "metadata": {},
   "outputs": [],
   "source": [
    "sns.barplot(x=\"day\", y=\"total_bill\",  hue=\"sex\",  data=tips, ci=None)"
   ]
  },
  {
   "cell_type": "markdown",
   "metadata": {},
   "source": [
    "If we want to further split up by time, we can use the `.catplot()` function instead, which is specifically designed for handling categorical data (Lunch vs Dinner, in our case). Note how closely this command resembles the one above!"
   ]
  },
  {
   "cell_type": "code",
   "execution_count": null,
   "metadata": {
    "scrolled": true
   },
   "outputs": [],
   "source": [
    "tips"
   ]
  },
  {
   "cell_type": "code",
   "execution_count": null,
   "metadata": {
    "scrolled": false
   },
   "outputs": [],
   "source": [
    "lunchonly = tips[tips['time']=='Lunch']\n",
    "sns.catplot(x=\"day\", y=\"total_bill\", hue=\"sex\", kind='bar', data=lunchonly)"
   ]
  },
  {
   "cell_type": "code",
   "execution_count": null,
   "metadata": {
    "scrolled": true
   },
   "outputs": [],
   "source": [
    "sns.barplot(x=\"stadsdeel\", y=\"woz-waarde\", hue='year', data=woz)"
   ]
  },
  {
   "cell_type": "markdown",
   "metadata": {},
   "source": [
    "Let's now make this a bit prettier.\n",
    "\n",
    "We first set the style for seaborn plots (note that this affects ALL following graphs you are going to plot, until you set the style to sth different or restart the kernel).\n",
    "\n",
    "We then make use of the fact that seaborn is, in fact, built upon matplotlib and can therefore plot onto a matplotlib canvas. We create such a canvas (in this case, one with one subplot, called (somewhat counter-intuitively) an axis), and then tell seaborn to plot into the subplot area `ax` that we just created. This allows us to combine multiple plots in one, and to change its size."
   ]
  },
  {
   "cell_type": "code",
   "execution_count": null,
   "metadata": {},
   "outputs": [],
   "source": [
    "sns.set(style=\"whitegrid\")\n",
    "fig, ax = plt.subplots(figsize=(15,5))\n",
    "sns.barplot(ax=ax, x=\"stadsdeel\", y=\"woz-waarde\", hue='year', data=woz, ci = None)"
   ]
  },
  {
   "cell_type": "code",
   "execution_count": null,
   "metadata": {
    "scrolled": true
   },
   "outputs": [],
   "source": [
    "sns.set(style=\"whitegrid\")\n",
    "fig, ax = plt.subplots(figsize=(5,15))\n",
    "sns.barplot(ax=ax, y=\"stadsdeel\", x=\"woz-waarde\", hue='year', data=woz, ci = None, orient='h')"
   ]
  },
  {
   "cell_type": "markdown",
   "metadata": {},
   "source": [
    "# 3. Point charts\n",
    "\n",
    "- similar to bar charts\n",
    "- but: can look 'cleaner'\n",
    "- but: can give a clearer message if the categories can be meaningfully ordered\n",
    "\n",
    "Compare the following two charts that present the same data:\n",
    "\n"
   ]
  },
  {
   "cell_type": "code",
   "execution_count": null,
   "metadata": {
    "scrolled": true
   },
   "outputs": [],
   "source": [
    "sns.catplot(x=\"class\", y=\"survived\", hue=\"sex\",\n",
    "            palette={\"male\": \"m\", \"female\": \"y\"},\n",
    "            kind=\"bar\", data=titanic)"
   ]
  },
  {
   "cell_type": "code",
   "execution_count": null,
   "metadata": {},
   "outputs": [],
   "source": [
    "sns.catplot(x=\"class\", y=\"survived\", hue=\"sex\",\n",
    "            palette={\"male\": \"g\", \"female\": \"m\"},\n",
    "            markers=[\"^\", \"o\"], linestyles=[\"-\", \"--\"],\n",
    "            kind=\"point\", data=titanic)"
   ]
  },
  {
   "cell_type": "code",
   "execution_count": null,
   "metadata": {},
   "outputs": [],
   "source": [
    "sns.catplot?"
   ]
  },
  {
   "cell_type": "markdown",
   "metadata": {},
   "source": [
    "# 3. Line charts\n",
    "\n",
    "- ordered (and typically evenly spaced) values on x-axis\n",
    "- x-axis has many (in theory: contious) measurements\n",
    "- most typical: plot some value(s) over time\n"
   ]
  },
  {
   "cell_type": "code",
   "execution_count": null,
   "metadata": {},
   "outputs": [],
   "source": [
    "sns.lineplot(x='year', y='woz-waarde', data=woz)"
   ]
  },
  {
   "cell_type": "code",
   "execution_count": null,
   "metadata": {},
   "outputs": [],
   "source": [
    "sns.lineplot(x='year', y='woz-waarde', data=woz ,ci=None)"
   ]
  },
  {
   "cell_type": "code",
   "execution_count": null,
   "metadata": {},
   "outputs": [],
   "source": [
    "sns.lineplot(x='year', y='woz-waarde', hue='stadsdeel', data=woz)"
   ]
  },
  {
   "cell_type": "code",
   "execution_count": null,
   "metadata": {},
   "outputs": [],
   "source": [
    "# or using the more complicated pandas/matplotlib syntax\n",
    "# look back to the slides from last week!\n",
    "woz.groupby(['year','stadsdeel']).agg(sum).unstack().plot()"
   ]
  },
  {
   "cell_type": "markdown",
   "metadata": {},
   "source": [
    "# 4. Plotting bivariate relationships"
   ]
  },
  {
   "cell_type": "code",
   "execution_count": null,
   "metadata": {},
   "outputs": [],
   "source": [
    "# pandas/matplotlib\n",
    "tips.plot(x='total_bill', y='tip', kind='scatter')"
   ]
  },
  {
   "cell_type": "code",
   "execution_count": null,
   "metadata": {},
   "outputs": [],
   "source": [
    "# the same with seaborn\n",
    "sns.relplot(x='total_bill', y='tip', data=tips)"
   ]
  },
  {
   "cell_type": "code",
   "execution_count": null,
   "metadata": {},
   "outputs": [],
   "source": [
    "# but seaborn can do more, e.g. add a regression line and confidence intervals\n",
    "sns.regplot(x='total_bill', y='tip', data=tips)"
   ]
  },
  {
   "cell_type": "code",
   "execution_count": null,
   "metadata": {},
   "outputs": [],
   "source": [
    "# Or we can draw a locally weighted regression line (lowess)\n",
    "# (and much more)\n",
    "sns.regplot(x='total_bill', y='tip', data=tips, lowess=True)"
   ]
  },
  {
   "cell_type": "code",
   "execution_count": null,
   "metadata": {},
   "outputs": [],
   "source": [
    "# again, we can add different facets\n",
    "sns.relplot(x=\"total_bill\", y=\"tip\", col=\"time\",\n",
    "            hue=\"smoker\", style=\"smoker\", size=\"size\",\n",
    "            data=tips);"
   ]
  },
  {
   "cell_type": "code",
   "execution_count": null,
   "metadata": {},
   "outputs": [],
   "source": [
    "# We could also add histograms to the sides\n",
    "sns.jointplot(data = tips, x = 'total_bill', y='tip', \n",
    "              kind=\"scatter\", color=\"#4CB391\")"
   ]
  },
  {
   "cell_type": "code",
   "execution_count": null,
   "metadata": {},
   "outputs": [],
   "source": [
    "# ... or replace the scatterplot by a hexplot in which overlapping points lead to a darker shade\n",
    "sns.jointplot(data = tips, x = 'total_bill', y='tip', \n",
    "              kind=\"hex\", color=\"#4CB391\")"
   ]
  },
  {
   "cell_type": "markdown",
   "metadata": {},
   "source": [
    "# 5. Additional (statistical) plots\n",
    "\n",
    "Have a look at the seaborn website (http://seaborn.pydata.org/) or at the Python Graph Gallery (https://python-graph-gallery.com/) for more inspiration, including cool stuff like\n",
    "\n",
    "- violin plots\n",
    "- kernel density plots\n",
    "- ...\n",
    "- ...\n"
   ]
  },
  {
   "cell_type": "code",
   "execution_count": null,
   "metadata": {},
   "outputs": [],
   "source": []
  },
  {
   "cell_type": "markdown",
   "metadata": {},
   "source": [
    "# 6. Interactivity\n",
    "\n",
    "There are several ways of adding interactivity to your plots. One is `plotly`. In recent versions of pandas, you can even replace the default `matplotlib` backend by `plotly`!\n",
    "\n",
    "(Of course, you can also use plotly directly for much more control --> read the docs)"
   ]
  },
  {
   "cell_type": "code",
   "execution_count": null,
   "metadata": {},
   "outputs": [],
   "source": [
    "pd.options.plotting.backend = \"plotly\"\n",
    "fig = tips.plot(x= \"total_bill\", y='tip', kind='scatter')\n",
    "fig.show()\n",
    "fig.write_html(\"plotly-example.html\")"
   ]
  },
  {
   "cell_type": "code",
   "execution_count": null,
   "metadata": {},
   "outputs": [],
   "source": [
    "# let's add some more data to the hover-over box\n",
    "# look at https://towardsdatascience.com/visualization-with-plotly-express-comprehensive-guide-eb5ee4b50b57 for more info\n",
    "# e.g., we can also specify color = 'varname', size = 'varname' etc. - very much like in seaborn\n",
    "tips.plot(x= \"total_bill\", y='tip', kind='scatter',  hover_data={\"smoker\":True})"
   ]
  },
  {
   "cell_type": "markdown",
   "metadata": {},
   "source": [
    "Another, really powerful way to build interactive visualization apps is Bokeh - see the tutorial here: \n",
    "https://mybinder.org/v2/gh/bokeh/bokeh-notebooks/master?filepath=tutorial%2F00%20-%20Introduction%20and%20Setup.ipynb"
   ]
  },
  {
   "cell_type": "markdown",
   "metadata": {},
   "source": [
    "# Now it's your turn!\n",
    "\n",
    "**Exercise**: Take a dataset of you choice (preferably your own data) and try to make multiple visualisations!\n",
    "You can work together with a classmate if you want to."
   ]
  },
  {
   "cell_type": "code",
   "execution_count": null,
   "metadata": {},
   "outputs": [],
   "source": []
  },
  {
   "cell_type": "code",
   "execution_count": null,
   "metadata": {},
   "outputs": [],
   "source": []
  },
  {
   "cell_type": "code",
   "execution_count": null,
   "metadata": {},
   "outputs": [],
   "source": []
  }
 ],
 "metadata": {
  "kernelspec": {
   "display_name": "Python 3",
   "language": "python",
   "name": "python3"
  },
  "language_info": {
   "codemirror_mode": {
    "name": "ipython",
    "version": 3
   },
   "file_extension": ".py",
   "mimetype": "text/x-python",
   "name": "python",
   "nbconvert_exporter": "python",
   "pygments_lexer": "ipython3",
   "version": "3.7.2"
  }
 },
 "nbformat": 4,
 "nbformat_minor": 1
}
